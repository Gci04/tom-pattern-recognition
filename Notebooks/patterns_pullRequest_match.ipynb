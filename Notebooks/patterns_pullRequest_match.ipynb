{
 "cells": [
  {
   "cell_type": "markdown",
   "id": "noble-colombia",
   "metadata": {},
   "source": [
    "# TOM pattern recognition : Extracting Pull request data from found patterns \n",
    "\n",
    "\n",
    "**Author**: Gcinizwe Dlamini\n",
    "\n",
    "<hr>"
   ]
  },
  {
   "cell_type": "markdown",
   "id": "loving-dodge",
   "metadata": {},
   "source": [
    "## Import libraries"
   ]
  },
  {
   "cell_type": "code",
   "execution_count": 1,
   "id": "becoming-mechanics",
   "metadata": {},
   "outputs": [],
   "source": [
    "import pandas as pd\n",
    "import numpy as np\n",
    "\n",
    "import json, zipfile"
   ]
  },
  {
   "cell_type": "markdown",
   "id": "federal-license",
   "metadata": {},
   "source": [
    "## 1. Read pull request data"
   ]
  },
  {
   "cell_type": "code",
   "execution_count": 2,
   "id": "electronic-naples",
   "metadata": {},
   "outputs": [],
   "source": [
    "target_file = 'tom_pull_info.csv'\n",
    "cols_to_select = ['repo_fullname', 'state', 'title',\"created_at_ext\",\"updated_at_ext\"]\n",
    "\n",
    "zf = zipfile.ZipFile('../Data/tom_sample_data.zip')\n",
    "\n",
    "pull_rq_data = pd.read_csv(zf.open(target_file),usecols=cols_to_select,parse_dates=[\"created_at_ext\",\"updated_at_ext\"])"
   ]
  },
  {
   "cell_type": "code",
   "execution_count": 3,
   "id": "cubic-office",
   "metadata": {},
   "outputs": [],
   "source": [
    "repos_in_pr = set(pull_rq_data.repo_fullname)"
   ]
  },
  {
   "cell_type": "markdown",
   "id": "normal-lighter",
   "metadata": {},
   "source": [
    "## 2. Read found patterns data"
   ]
  },
  {
   "cell_type": "code",
   "execution_count": 4,
   "id": "suspected-cornell",
   "metadata": {},
   "outputs": [],
   "source": [
    "def read_found_pattens(data_path='../results/total_added_result.json'):\n",
    "    with open(data_path) as json_file:\n",
    "        data = json.load(json_file)\n",
    "    return data"
   ]
  },
  {
   "cell_type": "markdown",
   "id": "handled-investing",
   "metadata": {},
   "source": [
    "## 3. Match pull request data to found patterns"
   ]
  },
  {
   "cell_type": "code",
   "execution_count": 5,
   "id": "graduate-library",
   "metadata": {},
   "outputs": [],
   "source": [
    "def get_pr_in_patterns(target_metric):\n",
    "    # Read target metric data (found patterns)\n",
    "    data = read_found_pattens(data_path=f'../results/{target_metric}_result.json')\n",
    "    \n",
    "    result = {}\n",
    "    for key in data.keys():\n",
    "        temp = {}\n",
    "        thr = list(data.get(key).keys())[0]\n",
    "        for repo_name, patterns in data.get(key).get(thr).items():\n",
    "            pr_list = []\n",
    "            pr_create_dates = []\n",
    "            if repo_name in repos_in_pr:\n",
    "                temp_filter = pull_rq_data.query('repo_fullname == @repo_name')\n",
    "                for p, ttstamps in patterns.items():\n",
    "                    start = pd.Timestamp(ttstamps[0])\n",
    "                    end = pd.Timestamp(ttstamps[-1]) + pd.Timedelta(days=7)\n",
    "                    \n",
    "                    # Filter the pull requests based on pattern offset timestamp and end timestamp + 7 days \n",
    "                    found = temp_filter.query('created_at_ext > @start and created_at_ext < @end')\n",
    "                    \n",
    "                    if len(found) != 0:\n",
    "                        pr_list += found.title.values.tolist()\n",
    "                        pr_create_dates += [l.strftime('%Y-%m-%d %H:%M:%S') for l in found.created_at_ext]\n",
    "\n",
    "            if len(pr_list) != 0: \n",
    "                temp[repo_name] = dict(zip(pr_list,pr_create_dates))\n",
    "\n",
    "        if len(temp) != 0: result[key] = temp\n",
    "    \n",
    "    #dump results to json\n",
    "    with open(f'../results/pr_{target_metric}_result.json', 'w') as fp:\n",
    "        json.dump(result, fp)"
   ]
  },
  {
   "cell_type": "code",
   "execution_count": 6,
   "id": "fifth-portrait",
   "metadata": {},
   "outputs": [],
   "source": [
    "for target_metric in ['total_added', 'total_changed', 'total_removed']:\n",
    "    get_pr_in_patterns(target_metric)"
   ]
  },
  {
   "cell_type": "code",
   "execution_count": null,
   "id": "powered-jackson",
   "metadata": {},
   "outputs": [],
   "source": []
  }
 ],
 "metadata": {
  "kernelspec": {
   "display_name": "Python 3",
   "language": "python",
   "name": "python3"
  },
  "language_info": {
   "codemirror_mode": {
    "name": "ipython",
    "version": 3
   },
   "file_extension": ".py",
   "mimetype": "text/x-python",
   "name": "python",
   "nbconvert_exporter": "python",
   "pygments_lexer": "ipython3",
   "version": "3.8.5"
  }
 },
 "nbformat": 4,
 "nbformat_minor": 5
}
