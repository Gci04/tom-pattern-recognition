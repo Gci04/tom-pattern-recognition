{
 "cells": [
  {
   "cell_type": "markdown",
   "id": "resident-region",
   "metadata": {},
   "source": [
    "# TOM pattern recognition from time series data \n",
    "\n",
    "```\n",
    "Author: Gcinizwe Dlamini\n",
    "```\n",
    "<hr>\n",
    "\n",
    "```\n",
    "The notebook contains the following main sections : \n",
    "  1. Retrieve the data\n",
    "  2. Set subsequence size m\n",
    "  3. Find consensus pattern\n",
    "  4. Match consensus pattern in all repositories\n",
    "  \n",
    "\n",
    "Main libraries used :     \n",
    "- stumpy\n",
    "```"
   ]
  },
  {
   "cell_type": "markdown",
   "id": "white-romance",
   "metadata": {},
   "source": [
    "## Import utils and used libraries"
   ]
  },
  {
   "cell_type": "code",
   "execution_count": null,
   "id": "occupational-brand",
   "metadata": {},
   "outputs": [],
   "source": [
    "from utils import *\n",
    "import numpy as np\n",
    "import plotly.express as px\n",
    "import pandas as pd"
   ]
  },
  {
   "cell_type": "markdown",
   "id": "welsh-straight",
   "metadata": {},
   "source": [
    "## Read data \n",
    "* Repositories full data\n",
    "* Issues data \n",
    "\n",
    "Print the data statistics"
   ]
  },
  {
   "cell_type": "code",
   "execution_count": null,
   "id": "mexican-amendment",
   "metadata": {},
   "outputs": [],
   "source": [
    "target_metrics = ['total_removed', 'total_added', 'total_changed']\n",
    "print('Reading Data...')\n",
    "all_data = get_data(target_metrics=target_metrics)\n",
    "print('Finished reading data...')"
   ]
  },
  {
   "cell_type": "code",
   "execution_count": null,
   "id": "developing-effectiveness",
   "metadata": {},
   "outputs": [],
   "source": [
    "len(all_data)"
   ]
  },
  {
   "cell_type": "code",
   "execution_count": null,
   "id": "atlantic-space",
   "metadata": {},
   "outputs": [],
   "source": [
    "def get_patterns(target_metric, all_data):\n",
    "    Ts = []\n",
    "    projects_names_map = {}\n",
    "    i = 0\n",
    "    for k, v in all_data.items():\n",
    "        repo_timestamps = v.get('time_stamps')\n",
    "        last_commit = max(repo_timestamps)\n",
    "        if last_commit.is_leap_year and last_commit.day > 28:\n",
    "            last_commit = last_commit.replace(day = last_commit.day - 2)\n",
    "\n",
    "        mask = np.where(last_commit.replace(year = last_commit.year - 1) > repo_timestamps)[0]\n",
    "        res = v.get(target_metric)[mask]\n",
    "        if(len(res) > 10):\n",
    "            Ts.append(res)\n",
    "            projects_names_map[i] = k\n",
    "            i+=1\n",
    "\n",
    "    p = len(Ts)*0.25\n",
    "    z = 4\n",
    "    resultR, allPatterns = approach1(Ts, p, z, d=0.3333)\n",
    "\n",
    "    if len(resultR) == 0: return None\n",
    "\n",
    "    overall_result = {}\n",
    "    for m, sub_data in allPatterns.items():\n",
    "        subsequence_result = {}\n",
    "        for i, patterns_found in sub_data['patterns'].items():\n",
    "            repo_name = projects_names_map[i]\n",
    "            temp = {}\n",
    "            for n, p in enumerate(patterns_found,1):\n",
    "                temp[f'position {n}'] = [datetime.strftime(l,'%Y-%m-%d %H:%M:%S') for l in all_data[repo_name]['time_stamps'][p:p+5]]\n",
    "            subsequence_result[repo_name] = temp\n",
    "        overall_result[str(m)] = subsequence_result\n",
    "\n",
    "    print('Saving result ...')\n",
    "    with open(f'../results/{target_metric}_result.json', 'w') as fp:\n",
    "        json.dump(overall_result, fp)"
   ]
  },
  {
   "cell_type": "code",
   "execution_count": null,
   "id": "caring-spirit",
   "metadata": {},
   "outputs": [],
   "source": [
    "for metric in target_metrics:\n",
    "    print(f'getting patterns for [{metric}]')\n",
    "    get_patterns(metric, all_data)"
   ]
  }
 ],
 "metadata": {
  "kernelspec": {
   "display_name": "Python 3 (ipykernel)",
   "language": "python",
   "name": "python3"
  },
  "language_info": {
   "codemirror_mode": {
    "name": "ipython",
    "version": 3
   },
   "file_extension": ".py",
   "mimetype": "text/x-python",
   "name": "python",
   "nbconvert_exporter": "python",
   "pygments_lexer": "ipython3",
   "version": "3.8.10"
  }
 },
 "nbformat": 4,
 "nbformat_minor": 5
}
