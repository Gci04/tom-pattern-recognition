{
 "cells": [
  {
   "cell_type": "markdown",
   "id": "resident-region",
   "metadata": {},
   "source": [
    "# TOM pattern recognition from time series data \n",
    "\n",
    "```\n",
    "Author: Gcinizwe Dlamini\n",
    "```\n",
    "<hr>\n",
    "\n",
    "```\n",
    "The notebook contains the following main sections : \n",
    "  1. Data preprocessing\n",
    "  2. EDA\n",
    "  3. Profile matrix calculation\n",
    "  4. Conclusions\n",
    "\n",
    "Main libraries used :     \n",
    "- stumpy\n",
    "```"
   ]
  },
  {
   "cell_type": "code",
   "execution_count": null,
   "id": "occupational-brand",
   "metadata": {},
   "outputs": [],
   "source": [
    "from utils import *\n",
    "import numpy as np"
   ]
  },
  {
   "cell_type": "code",
   "execution_count": null,
   "id": "mexican-amendment",
   "metadata": {},
   "outputs": [],
   "source": [
    "all_data = get_data()\n",
    "issues_df = read_issues()"
   ]
  },
  {
   "cell_type": "code",
   "execution_count": null,
   "id": "spoken-lindsay",
   "metadata": {},
   "outputs": [],
   "source": [
    "def print_repos_stats():\n",
    "    global all_data\n",
    "    for k, v in all_data.items():\n",
    "        print(f'{k} : {len(v.get(\"time_stamps\"))} commits')"
   ]
  },
  {
   "cell_type": "code",
   "execution_count": null,
   "id": "honey-diana",
   "metadata": {},
   "outputs": [],
   "source": [
    "def approach3(Ts, m):\n",
    "    '''Find the z-normalized consensus pattern of multiple time series'''\n",
    "    central_radius, central_Ts_idx, central_subseq_idx = consensus_motif(Ts, m)\n",
    "    consensus_pattern = Ts[central_Ts_idx][central_subseq_idx:central_subseq_idx+m]\n",
    "\n",
    "    result = {}\n",
    "    tot_found = 0\n",
    "    overall_distance = 0.0\n",
    "    min_found = np.inf\n",
    "    min_indx = central_Ts_idx\n",
    "\n",
    "    print(f'Consensus pattern : {*consensus_pattern,}')\n",
    "    print(f'Central radius : {central_radius}')\n",
    "\n",
    "    for i in range(len(Ts)):\n",
    "        distance_profile = search_pattern(Ts[i], consensus_pattern)\n",
    "        try:\n",
    "            result[i] = distance_profile[:,1]\n",
    "        except Exception as e:\n",
    "            print(distance_profile)\n",
    "\n",
    "        if central_Ts_idx == i : continue\n",
    "        tot_found += len(distance_profile)\n",
    "        if len(distance_profile) == 0:\n",
    "            min_indx = 0\n",
    "            continue\n",
    "        overall_distance += distance_profile[:,0].sum()\n",
    "        if len(distance_profile) < min_found:\n",
    "            min_found = len(distance_profile)\n",
    "            min_indx = i\n",
    "\n",
    "    print(f'Total Distance : {overall_distance}')\n",
    "    print(f'Total Found patterns : {tot_found}')\n",
    "    print(f'Min Found patterns : {min_found}, indx: {min_indx}')\n",
    "\n",
    "    return central_Ts_idx, central_subseq_idx, result"
   ]
  },
  {
   "cell_type": "code",
   "execution_count": null,
   "id": "compound-category",
   "metadata": {},
   "outputs": [],
   "source": [
    "# all_data\n",
    "Ts = []\n",
    "projects_names_map = {}\n",
    "data_distribution()\n",
    "\n",
    "for i, (k, v) in enumerate(all_data.items()):\n",
    "    Ts.append(v.get('total_changed'))\n",
    "    projects_names_map[i] = k\n",
    "\n",
    "# print_repos_stats()\n",
    "m = 9\n",
    "# for m in [5,7,10,14,21]\n",
    "repo_idx, seq_idx, all_patterns = approach3(Ts, m)\n",
    "\n",
    "d = {}\n",
    "all_found = {}\n",
    "for k, v in all_patterns.items():\n",
    "    repo_name = projects_names_map[k]\n",
    "    temp = []\n",
    "    temp2 = []\n",
    "    print(f'\\n{repo_name} patterns (anomalies)')\n",
    "    for idx in v[:]:\n",
    "        repo_timestamps = all_data[repo_name].get('time_stamps')\n",
    "        first_commit = min(repo_timestamps)\n",
    "        mask = np.where(first_commit.replace(year = first_commit.year + 1) > repo_timestamps)[0]\n",
    "        upper_bound = max(repo_timestamps[mask])\n",
    "        \n",
    "        start = repo_timestamps[idx]\n",
    "        try:\n",
    "            end = repo_timestamps[idx+m]\n",
    "        except Exception as e:\n",
    "            end = repo_timestamps[idx+m-1]\n",
    "\n",
    "        print(f'from {start} to {end}')\n",
    "        if upper_bound > start:\n",
    "            temp2.append((upper_bound - start).days // 30)\n",
    "        temp.append([start,end])\n",
    "    d[repo_name] = sorted(temp2) #((upper_bound - start).days // 30)\n",
    "    all_found[repo_name] = temp"
   ]
  },
  {
   "cell_type": "code",
   "execution_count": null,
   "id": "connected-memorabilia",
   "metadata": {},
   "outputs": [],
   "source": [
    "for repo_name, patterns in all_found.items():\n",
    "    print(repo_name)\n",
    "    print(d[repo_name])\n",
    "    for p in patterns:\n",
    "        temp = issues_df.query('repo_fullname == @repo_name')\n",
    "        num_created = len(temp.query('(created_at_ext > @p[0] and created_at_ext < @p[1])'))\n",
    "        num_updated = len(temp.query('updated_at_ext > @p[0] and updated_at_ext < @p[1]'))\n",
    "        num_opend = len(temp.query('created_at_ext < @p[1] and state == \"open\"'))\n",
    "        num_closed = len(temp.query('created_at_ext < @p[1] and state == \"closed\"'))\n",
    "        print(f'Issues : created {num_created}, updated {num_updated}, open {num_opend}, overall closed {num_closed}')\n",
    "    print('\\n')"
   ]
  },
  {
   "cell_type": "code",
   "execution_count": null,
   "id": "activated-charge",
   "metadata": {},
   "outputs": [],
   "source": []
  }
 ],
 "metadata": {
  "kernelspec": {
   "display_name": "Python 3",
   "language": "python",
   "name": "python3"
  },
  "language_info": {
   "codemirror_mode": {
    "name": "ipython",
    "version": 3
   },
   "file_extension": ".py",
   "mimetype": "text/x-python",
   "name": "python",
   "nbconvert_exporter": "python",
   "pygments_lexer": "ipython3",
   "version": "3.8.5"
  }
 },
 "nbformat": 4,
 "nbformat_minor": 5
}
