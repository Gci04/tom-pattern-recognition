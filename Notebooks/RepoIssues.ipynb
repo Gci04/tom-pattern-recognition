{
 "cells": [
  {
   "cell_type": "markdown",
   "id": "01a08c00",
   "metadata": {},
   "source": [
    "# TOM pattern recognition from time series data (repo issues)\n",
    "\n",
    "```\n",
    "Author: Gcinizwe Dlamini\n",
    "```\n",
    "<hr>\n",
    "\n",
    "```\n",
    "The notebook is dedicated in exploration of repositories issues\n",
    "\n",
    "Main libraries used :     \n",
    "- json\n",
    "- pandas\n",
    "```"
   ]
  },
  {
   "cell_type": "code",
   "execution_count": 1,
   "id": "8e828c2d",
   "metadata": {},
   "outputs": [],
   "source": [
    "import pandas as pd\n",
    "import json"
   ]
  },
  {
   "cell_type": "markdown",
   "id": "ba5f0cc7",
   "metadata": {},
   "source": [
    "## 1. Read the data"
   ]
  },
  {
   "cell_type": "code",
   "execution_count": 24,
   "id": "5d829ee3",
   "metadata": {},
   "outputs": [
    {
     "data": {
      "text/html": [
       "<div>\n",
       "<style scoped>\n",
       "    .dataframe tbody tr th:only-of-type {\n",
       "        vertical-align: middle;\n",
       "    }\n",
       "\n",
       "    .dataframe tbody tr th {\n",
       "        vertical-align: top;\n",
       "    }\n",
       "\n",
       "    .dataframe thead th {\n",
       "        text-align: right;\n",
       "    }\n",
       "</style>\n",
       "<table border=\"1\" class=\"dataframe\">\n",
       "  <thead>\n",
       "    <tr style=\"text-align: right;\">\n",
       "      <th></th>\n",
       "      <th>repo_fullname</th>\n",
       "      <th>created_at_ext</th>\n",
       "      <th>updated_at_ext</th>\n",
       "      <th>closed_at_ext</th>\n",
       "      <th>comments_count</th>\n",
       "      <th>state</th>\n",
       "    </tr>\n",
       "  </thead>\n",
       "  <tbody>\n",
       "    <tr>\n",
       "      <th>0</th>\n",
       "      <td>cfc4n/woodpecker</td>\n",
       "      <td>2014-03-05T10:48:33.000Z</td>\n",
       "      <td>2014-10-15T04:04:49.000Z</td>\n",
       "      <td>2014-10-15T04:04:49.000Z</td>\n",
       "      <td>5</td>\n",
       "      <td>closed</td>\n",
       "    </tr>\n",
       "    <tr>\n",
       "      <th>1</th>\n",
       "      <td>simongeilfus/Cinder-ImGui</td>\n",
       "      <td>2020-02-23T19:29:53.000Z</td>\n",
       "      <td>2020-02-23T19:29:53.000Z</td>\n",
       "      <td>None</td>\n",
       "      <td>0</td>\n",
       "      <td>open</td>\n",
       "    </tr>\n",
       "    <tr>\n",
       "      <th>2</th>\n",
       "      <td>simongeilfus/Cinder-ImGui</td>\n",
       "      <td>2019-12-12T14:17:58.000Z</td>\n",
       "      <td>2019-12-13T01:43:19.000Z</td>\n",
       "      <td>None</td>\n",
       "      <td>1</td>\n",
       "      <td>open</td>\n",
       "    </tr>\n",
       "    <tr>\n",
       "      <th>3</th>\n",
       "      <td>simongeilfus/Cinder-ImGui</td>\n",
       "      <td>2019-08-30T04:21:30.000Z</td>\n",
       "      <td>2019-09-02T15:08:56.000Z</td>\n",
       "      <td>2019-09-02T15:08:56.000Z</td>\n",
       "      <td>0</td>\n",
       "      <td>closed</td>\n",
       "    </tr>\n",
       "    <tr>\n",
       "      <th>4</th>\n",
       "      <td>simongeilfus/Cinder-ImGui</td>\n",
       "      <td>2019-05-03T23:49:14.000Z</td>\n",
       "      <td>2019-10-17T18:01:45.000Z</td>\n",
       "      <td>None</td>\n",
       "      <td>2</td>\n",
       "      <td>open</td>\n",
       "    </tr>\n",
       "  </tbody>\n",
       "</table>\n",
       "</div>"
      ],
      "text/plain": [
       "               repo_fullname            created_at_ext  \\\n",
       "0           cfc4n/woodpecker  2014-03-05T10:48:33.000Z   \n",
       "1  simongeilfus/Cinder-ImGui  2020-02-23T19:29:53.000Z   \n",
       "2  simongeilfus/Cinder-ImGui  2019-12-12T14:17:58.000Z   \n",
       "3  simongeilfus/Cinder-ImGui  2019-08-30T04:21:30.000Z   \n",
       "4  simongeilfus/Cinder-ImGui  2019-05-03T23:49:14.000Z   \n",
       "\n",
       "             updated_at_ext             closed_at_ext  comments_count   state  \n",
       "0  2014-10-15T04:04:49.000Z  2014-10-15T04:04:49.000Z               5  closed  \n",
       "1  2020-02-23T19:29:53.000Z                      None               0    open  \n",
       "2  2019-12-13T01:43:19.000Z                      None               1    open  \n",
       "3  2019-09-02T15:08:56.000Z  2019-09-02T15:08:56.000Z               0  closed  \n",
       "4  2019-10-17T18:01:45.000Z                      None               2    open  "
      ]
     },
     "execution_count": 24,
     "metadata": {},
     "output_type": "execute_result"
    }
   ],
   "source": [
    "f = open('../Data/tom_issues_infos.json')\n",
    "cols_to_use = ['repo_fullname','created_at_ext', 'updated_at_ext', 'closed_at_ext',\n",
    "       'comments_count','state']\n",
    "\n",
    "issues_data = pd.json_normalize(json.load(f)['tom_issues_infos'])[cols_to_use]\n",
    "\n",
    "f.close()\n",
    "\n",
    "issues_data.head()"
   ]
  }
 ],
 "metadata": {
  "kernelspec": {
   "display_name": "Python 3",
   "language": "python",
   "name": "python3"
  },
  "language_info": {
   "codemirror_mode": {
    "name": "ipython",
    "version": 3
   },
   "file_extension": ".py",
   "mimetype": "text/x-python",
   "name": "python",
   "nbconvert_exporter": "python",
   "pygments_lexer": "ipython3",
   "version": "3.8.5"
  }
 },
 "nbformat": 4,
 "nbformat_minor": 5
}
