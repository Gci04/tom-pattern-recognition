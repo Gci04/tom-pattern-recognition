{
 "cells": [
  {
   "cell_type": "markdown",
   "metadata": {
    "id": "Pca0bNyIuABJ"
   },
   "source": [
    "# TOM pattern recognition from time series data \n",
    "\n",
    "```\n",
    "Author: Gcinizwe Dlamini\n",
    "```\n",
    "<hr>\n",
    "\n",
    "```\n",
    "The notebook contains the following main sections : \n",
    "  1. Data preprocessing\n",
    "  2. EDA\n",
    "  3. Profile matrix calculation\n",
    "  4. Conclusions\n",
    "\n",
    "Main libraries used :     \n",
    "- stumpy\n",
    "- matrixprofile\n",
    "- plotly (for visualization)\n",
    "```"
   ]
  },
  {
   "cell_type": "markdown",
   "metadata": {
    "id": "_FD0IcRevv39"
   },
   "source": [
    "## 1. Install the necessary libraries"
   ]
  },
  {
   "cell_type": "code",
   "execution_count": null,
   "metadata": {
    "id": "CuycIh5Bs5-J"
   },
   "outputs": [],
   "source": [
    "# !pip install scipy==1.5\n",
    "# !pip install stumpy\n",
    "# !pip install matrixprofile"
   ]
  },
  {
   "cell_type": "markdown",
   "metadata": {
    "id": "SB1O30A0v4Li"
   },
   "source": [
    "## 2. Import libraries"
   ]
  },
  {
   "cell_type": "code",
   "execution_count": null,
   "metadata": {
    "id": "DCUYeYBRQjge"
   },
   "outputs": [],
   "source": [
    "import numpy as np\n",
    "import pandas as pd\n",
    "import zipfile\n",
    "\n",
    "# for data visualization\n",
    "import plotly.express as px \n",
    "import plotly.graph_objects as go\n",
    "from plotly.subplots import make_subplots\n",
    "\n",
    "# For data preprocessing\n",
    "from sklearn.preprocessing import MinMaxScaler\n",
    "from sklearn.model_selection import train_test_split\n",
    "\n",
    "%matplotlib inline\n",
    "import matplotlib.pyplot as plt\n",
    "\n",
    "# For matrix profile calculations\n",
    "import stumpy"
   ]
  },
  {
   "cell_type": "markdown",
   "metadata": {
    "id": "ygbB9MQ2wLOq"
   },
   "source": [
    "## 3. Read the data"
   ]
  },
  {
   "cell_type": "code",
   "execution_count": null,
   "metadata": {},
   "outputs": [],
   "source": [
    "cols_to_select = ['commit_datetime', 'full_name', 'total_files', 'total_added','total_removed','total_changed']\n",
    "zf = zipfile.ZipFile('../Data/sample_data.zip')\n",
    "repository_hist_df = pd.read_csv(zf.open('commits_data.csv'), usecols= cols_to_select,parse_dates=['commit_datetime'],index_col='commit_datetime')\n",
    "repository_hist_df.head()   "
   ]
  },
  {
   "cell_type": "code",
   "execution_count": null,
   "metadata": {},
   "outputs": [],
   "source": [
    "repository_hist_df.full_name.unique()"
   ]
  },
  {
   "cell_type": "code",
   "execution_count": null,
   "metadata": {
    "colab": {
     "base_uri": "https://localhost:8080/",
     "height": 392
    },
    "id": "_0npF2guQ3Eq",
    "outputId": "a6841149-a69b-4d38-e8dc-76cb31c15d5c"
   },
   "outputs": [],
   "source": [
    "cols_to_select = ['commit_datetime', 'full_name', 'total_files', 'total_added','total_removed','total_changed']\n",
    "data_path = '../Data/repositories.csv'\n",
    "repository_hist_df = pd.read_csv(data_path, usecols= cols_to_select,\\\n",
    "                                 parse_dates=['commit_datetime'],index_col='commit_datetime')\n",
    "repository_hist_df.head()"
   ]
  },
  {
   "cell_type": "markdown",
   "metadata": {
    "id": "Gb_B_NdYwQ9X"
   },
   "source": [
    "## 4. Sample one repository for visualisation and experimentation"
   ]
  },
  {
   "cell_type": "code",
   "execution_count": null,
   "metadata": {
    "colab": {
     "base_uri": "https://localhost:8080/",
     "height": 228
    },
    "id": "cMwKVSE1RLaW",
    "outputId": "4fe14132-cd8e-42b9-b76d-01df72f8b123"
   },
   "outputs": [],
   "source": [
    "repo_to_select = 'spring-projects/spring-boot'\n",
    "df = repository_hist_df.query('full_name == @repo_to_select').sort_index()\n",
    "df.drop('full_name',axis=1,inplace=True)\n",
    "col_mapping = {'total_files': 'T1', 'total_added': 'T2','total_removed':'T3',\n",
    "              'total_changed':'T4'}\n",
    "df.rename(col_mapping, axis=1,inplace=True)\n",
    "df.index = np.arange(0,len(df))\n",
    "df.head()"
   ]
  },
  {
   "cell_type": "markdown",
   "metadata": {
    "id": "CO0WVNp9wcZu"
   },
   "source": [
    "## 5. Scale the data for easy calculation of distance"
   ]
  },
  {
   "cell_type": "code",
   "execution_count": null,
   "metadata": {
    "colab": {
     "base_uri": "https://localhost:8080/",
     "height": 228
    },
    "id": "KLRquXyzVP1C",
    "outputId": "8dda9c07-4937-48f2-acd4-a4ecdc369896"
   },
   "outputs": [],
   "source": [
    "scaler = MinMaxScaler()\n",
    "df[list(df.columns)] = scaler.fit_transform(df[list(df.columns)].values)\n",
    "df.head()"
   ]
  },
  {
   "cell_type": "code",
   "execution_count": null,
   "metadata": {
    "colab": {
     "base_uri": "https://localhost:8080/",
     "height": 644
    },
    "id": "5MRavEchtd2h",
    "outputId": "51d8bd4c-9b5b-4148-fd10-beb25fc02234"
   },
   "outputs": [],
   "source": [
    "fig, axs = plt.subplots(df.shape[1],1,sharex=True,figsize=(15,10),gridspec_kw={'hspace': 0})\n",
    "plt.suptitle(f'{repo_to_select}')\n",
    "for i in range(df.shape[1]):\n",
    "    axs[i].set_ylabel(f'T{i + 1}', fontsize='20')\n",
    "    axs[i].set_xlabel('Commit number', fontsize ='20')\n",
    "    axs[i].plot(df[f'T{i + 1}'])\n",
    "# plt.savefig('multiPlot.eps')\n",
    "plt.show()"
   ]
  },
  {
   "cell_type": "markdown",
   "metadata": {
    "id": "4CGhlxTLIPHP"
   },
   "source": [
    "## 6. Calculation of matrix profiles"
   ]
  },
  {
   "cell_type": "code",
   "execution_count": null,
   "metadata": {
    "id": "DVzX-QQjtklX"
   },
   "outputs": [],
   "source": [
    "def calc_profile_matrix(df, m=30, tot_motifs=3):\n",
    "  \"\"\"Function to calulate 1-dimensional matrix profiles given subsequence size (m)\"\"\"\n",
    "  mps = {}  # Store the 1-dimensional matrix profiles\n",
    "  motifs_idx = {}  # Store the index locations for each pair of 1-dimensional motifs (i.e., the index location of two smallest matrix profile values within each dimension)\n",
    "  for dim_name in df.columns:\n",
    "    mps[dim_name] = stumpy.stump(df[dim_name].astype(np.float64), m)\n",
    "    motif_distance = np.round(mps[dim_name][:, 0].min(), 1)\n",
    "    motifs_idx[dim_name] = np.argsort(mps[dim_name][:, 0])[:tot_motifs]\n",
    "    print(f'The motif pair matrix profile value in {dim_name} is {motif_distance}')\n",
    "    # motifs_idx.keys()\n",
    "\n",
    "  return mps, motifs_idx"
   ]
  },
  {
   "cell_type": "markdown",
   "metadata": {
    "id": "LUFbr28IIYtH"
   },
   "source": [
    "## 7. Plotting the Motifs"
   ]
  },
  {
   "cell_type": "code",
   "execution_count": null,
   "metadata": {
    "id": "qglRFdBESt9A"
   },
   "outputs": [],
   "source": [
    "def plot_data(df, mps, motifs_idx, m):\n",
    "  fig, axs = plt.subplots(df.shape[1] * 2,1,sharex=True,figsize=(25,15),gridspec_kw={'hspace': 0})\n",
    "  for k, dim_name in enumerate(df.columns):\n",
    "    axs[k].set_ylabel(dim_name, fontsize='20')\n",
    "    axs[k].plot(df[dim_name].iloc[:])\n",
    "    axs[k+ df.shape[1]].plot(mps[dim_name][:,0],c='green', linewidth=2)\n",
    "    axs[k+ df.shape[1]].set_ylabel(f\"P{k+1}\", fontsize='20')\n",
    "    axs[k+ df.shape[1]].axes.set_yticks([])\n",
    "    axs[k].axes.set_yticks([])\n",
    "\n",
    "    for idx in motifs_idx[dim_name]:\n",
    "      axs[k].plot(df[dim_name].iloc[idx:idx+m], c='red', linewidth=2)\n",
    "      axs[k].axvline(x=idx, linestyle=\"dashed\", c='black')\n",
    "\n",
    "  plt.savefig(f'All_data_{m}.eps')\n",
    "  plt.show()"
   ]
  },
  {
   "cell_type": "markdown",
   "metadata": {
    "id": "wDVVmwJt81YE"
   },
   "source": [
    "## Motifs > 2 in time series"
   ]
  },
  {
   "cell_type": "code",
   "execution_count": null,
   "metadata": {
    "colab": {
     "base_uri": "https://localhost:8080/",
     "height": 1000
    },
    "id": "3vONsO_1Svlp",
    "outputId": "aab6dd15-2247-4800-c33d-bda165d2106c"
   },
   "outputs": [],
   "source": [
    "for m  in [5, 7, 10, 14, 30]:\n",
    "  mps, motifs_idx = calc_profile_matrix(df,m,4)\n",
    "  plot_data(df, mps, motifs_idx, m)"
   ]
  },
  {
   "cell_type": "markdown",
   "metadata": {
    "id": "D1F2f5Bw1F-m"
   },
   "source": [
    "## 8. Multi-dimensional Matrix Profiles"
   ]
  },
  {
   "cell_type": "code",
   "execution_count": null,
   "metadata": {
    "id": "ldkU3S001NRN"
   },
   "outputs": [],
   "source": [
    "m = 7\n",
    "mps, indices = stumpy.mstump(df, m)"
   ]
  },
  {
   "cell_type": "markdown",
   "metadata": {
    "id": "XQdtHj2k1f7G"
   },
   "source": [
    "Consequently, the “k-dimensional motif” can be found by locating the lowest values in the corresponding k-dimensional matrix profile, mps:"
   ]
  },
  {
   "cell_type": "code",
   "execution_count": null,
   "metadata": {
    "id": "5gUGW15g1v29"
   },
   "outputs": [],
   "source": [
    "motifs_idx = np.argmin(mps, axis=1)\n",
    "nn_idx = indices[np.arange(len(motifs_idx)), motifs_idx]"
   ]
  },
  {
   "cell_type": "code",
   "execution_count": null,
   "metadata": {
    "colab": {
     "base_uri": "https://localhost:8080/",
     "height": 372
    },
    "id": "aUIIlGFF1_1f",
    "outputId": "1518f6b8-1ab4-49a7-edd9-6177ef0dd8b7"
   },
   "outputs": [],
   "source": [
    "fig, axs = plt.subplots(mps.shape[0] * 2,1,sharex=True,figsize=(25,10),gridspec_kw={'hspace': 0})\n",
    "for k, dim_name in enumerate(df.columns):\n",
    "    axs[k].set_ylabel(dim_name, fontsize='20')\n",
    "    axs[k].plot(df[dim_name])\n",
    "    axs[k].set_xlabel('Time', fontsize ='20')\n",
    "\n",
    "    axs[k + mps.shape[0]].set_ylabel(dim_name.replace('T', 'P'), fontsize='20')\n",
    "    axs[k + mps.shape[0]].plot(mps[k], c='orange')\n",
    "    axs[k + mps.shape[0]].set_xlabel('Time', fontsize ='20')\n",
    "\n",
    "    axs[k].axvline(x=motifs_idx[2], linestyle=\"dashed\", c='black')\n",
    "    axs[k].axvline(x=nn_idx[2], linestyle=\"dashed\", c='black')\n",
    "    axs[k + mps.shape[0]].axvline(x=motifs_idx[2], linestyle=\"dashed\", c='black')\n",
    "    axs[k + mps.shape[0]].axvline(x=nn_idx[2], linestyle=\"dashed\", c='black')\n",
    "    \n",
    "    axs[k].plot(df[dim_name].iloc[motifs_idx[k] : motifs_idx[k] + m], c='red', linewidth=5)\n",
    "    axs[k].plot(df[dim_name].iloc[nn_idx[k] : nn_idx[k] + m], c='red', linewidth=4)\n",
    "   \n",
    "    axs[k + mps.shape[0]].plot(motifs_idx[k], mps[k, motifs_idx[k]] + 1, marker=\"v\", markersize=10, color='black')\n",
    "    axs[k + mps.shape[0]].plot(nn_idx[k], mps[k, nn_idx[k]] + 1, marker=\"v\", markersize=10, color='black')\n",
    "\n",
    "plt.show()"
   ]
  },
  {
   "cell_type": "markdown",
   "metadata": {
    "id": "0sK3rxDXF6mV"
   },
   "source": [
    "## Choosing value of $k$ in multidimentional \n",
    "\n",
    "approach is to turn this into a classic elbow/knee finding problem by plotting the minimum matrix profile value in each dimension against 𝑘 and then you look for the “turning point”"
   ]
  },
  {
   "cell_type": "code",
   "execution_count": null,
   "metadata": {
    "colab": {
     "base_uri": "https://localhost:8080/",
     "height": 308
    },
    "id": "OrVNZd5LGW3U",
    "outputId": "54c3a7d7-7f68-4e45-b93d-cd835c6f1853"
   },
   "outputs": [],
   "source": [
    "plt.plot(mps[range(mps.shape[0]), motifs_idx[:]], c='red', linewidth='4')\n",
    "plt.xlabel('k (zero-based)', fontsize='20')\n",
    "plt.ylabel('Matrix Profile Value', fontsize='20')\n",
    "plt.xticks(range(mps.shape[0]))\n",
    "plt.show()"
   ]
  },
  {
   "cell_type": "markdown",
   "metadata": {
    "id": "C91oNHze0O2q"
   },
   "source": [
    "# Matrixprofile lib approach "
   ]
  },
  {
   "cell_type": "code",
   "execution_count": null,
   "metadata": {
    "colab": {
     "base_uri": "https://localhost:8080/",
     "height": 260
    },
    "id": "zqzMNz6YU7pm",
    "outputId": "686afbf2-da29-45b7-bf72-5703e5fac6ed"
   },
   "outputs": [],
   "source": [
    "cols_to_select = ['commit_datetime', 'full_name', 'total_files', 'total_added','total_removed','total_changed']\n",
    "data_path = '../Data/repositories.csv'\n",
    "repository_hist_df = pd.read_csv(data_path, usecols= cols_to_select,\\\n",
    "                                 parse_dates=['commit_datetime'],index_col='commit_datetime')\n",
    "\n",
    "\n",
    "repo_to_select = 'brianchandotcom/liferay-portal'\n",
    "df = repository_hist_df.query('full_name == @repo_to_select').sort_index()\n",
    "df.drop('full_name',axis=1,inplace=True)\n",
    "col_mapping = {'total_files': 'T1', 'total_added': 'T2','total_removed':'T3',\n",
    "              'total_changed':'T4'}\n",
    "df.rename(col_mapping, axis=1,inplace=True)\n",
    "df.head()"
   ]
  }
 ],
 "metadata": {
  "colab": {
   "collapsed_sections": [],
   "name": "TOM_STUMPY.ipynb",
   "provenance": []
  },
  "kernelspec": {
   "display_name": "Python 3 (ipykernel)",
   "language": "python",
   "name": "python3"
  },
  "language_info": {
   "codemirror_mode": {
    "name": "ipython",
    "version": 3
   },
   "file_extension": ".py",
   "mimetype": "text/x-python",
   "name": "python",
   "nbconvert_exporter": "python",
   "pygments_lexer": "ipython3",
   "version": "3.8.10"
  }
 },
 "nbformat": 4,
 "nbformat_minor": 1
}
